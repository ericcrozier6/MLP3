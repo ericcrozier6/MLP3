{
 "cells": [
  {
   "cell_type": "code",
   "execution_count": 1,
   "id": "4bd21ac8",
   "metadata": {},
   "outputs": [],
   "source": [
    "import os\n",
    "import librosa as lb\n",
    "from scipy.fft import fft, fftfreq\n",
    "import scipy\n",
    "import numpy as np\n",
    "from sklearn import svm\n",
    "import pandas as pd"
   ]
  },
  {
   "cell_type": "code",
   "execution_count": 7,
   "id": "4c6ea214",
   "metadata": {},
   "outputs": [],
   "source": [
    "'''\n",
    "SVM by Eric Crozier\n",
    "Reads in the training data, and gets the data from librosa's load mp3 function\n",
    "I also read in the correct classifications given for the training data, for the \n",
    "SVM training function\n",
    "From there I read in the testing data, and predict the testing data\n",
    "which outputs the classifications for them, which gets put in a text file\n",
    "I convert the file to the correct format in another file\n",
    "\n",
    "'''\n",
    "\n",
    "\n",
    "#read csv\n",
    "load_file = 'train.csv'\n",
    "df = pd.read_csv(load_file)\n",
    "\n",
    "#convert dataframe to numpy array\n",
    "#then create a sparse matrix from that\n",
    "matrix = scipy.sparse.csr_matrix(df.to_numpy())\n",
    "matrix = matrix.toarray()\n",
    "#print array just to see\n",
    "#print(matrix.toarray())\n",
    "\n",
    "\n",
    "#print(done)"
   ]
  },
  {
   "cell_type": "code",
   "execution_count": 8,
   "id": "4d8f93d1",
   "metadata": {},
   "outputs": [
    {
     "name": "stdout",
     "output_type": "stream",
     "text": [
      "[0 0 0 ... 4 4 4]\n"
     ]
    }
   ],
   "source": [
    "#extract classifications from training data\n",
    "\n",
    "classes = np.zeros( (matrix.shape[0]) , dtype=np.int64)\n",
    "for i in range(matrix.shape[0]):\n",
    "    classes[i] = matrix[i][1]\n",
    "    \n",
    "print(classes)    "
   ]
  },
  {
   "cell_type": "code",
   "execution_count": 12,
   "id": "63792b0d",
   "metadata": {},
   "outputs": [
    {
     "name": "stderr",
     "output_type": "stream",
     "text": [
      "C:\\Users\\ericc\\anaconda3\\lib\\site-packages\\librosa\\util\\decorators.py:88: UserWarning: PySoundFile failed. Trying audioread instead.\n",
      "  return f(*args, **kwargs)\n"
     ]
    },
    {
     "name": "stdout",
     "output_type": "stream",
     "text": [
      "0\n"
     ]
    },
    {
     "name": "stderr",
     "output_type": "stream",
     "text": [
      "C:\\Users\\ericc\\anaconda3\\lib\\site-packages\\librosa\\util\\decorators.py:88: UserWarning: PySoundFile failed. Trying audioread instead.\n",
      "  return f(*args, **kwargs)\n"
     ]
    },
    {
     "name": "stdout",
     "output_type": "stream",
     "text": [
      "100\n",
      "200\n",
      "300\n",
      "400\n",
      "500\n",
      "600\n",
      "700\n",
      "800\n",
      "900\n",
      "1000\n",
      "1100\n",
      "1200\n",
      "1300\n",
      "1400\n",
      "1500\n",
      "1600\n",
      "1700\n",
      "1800\n",
      "1900\n",
      "2000\n",
      "2100\n",
      "2200\n",
      "2300\n"
     ]
    }
   ],
   "source": [
    "'''\n",
    "Load all mp3 files from training\n",
    "put them in a list\n",
    "\n",
    "'''\n",
    "ls = []\n",
    "counter = 0\n",
    "for fileName in os.scandir(os.path.abspath(\"project3/train\")):\n",
    "    data, FS = lb.load(os.path.abspath(fileName), duration=29)\n",
    "    ls.append(data)\n",
    "    if(counter % 100 == 0): print(str(counter))\n",
    "    counter += 1\n",
    "    \n",
    "\n",
    "#data = data.reshape(-1,1)\n",
    "#print(ls.shape)\n",
    "#print(classes.shape)\n",
    "#clf = svm.SVC()\n",
    "#clf.fit(data.reshape(1,-1),classes)\n",
    "#print(data)\n",
    "#print(clf)"
   ]
  },
  {
   "cell_type": "code",
   "execution_count": 17,
   "id": "5ee58fd9",
   "metadata": {},
   "outputs": [
    {
     "name": "stdout",
     "output_type": "stream",
     "text": [
      "[[ 12  10]\n",
      " [ 20 200]]\n",
      "(2400, 639450)\n"
     ]
    },
    {
     "data": {
      "text/plain": [
       "SVC()"
      ]
     },
     "execution_count": 17,
     "metadata": {},
     "output_type": "execute_result"
    }
   ],
   "source": [
    "#load values and put them in the svm trainer\n",
    "# sparse_matrix = scipy.sparse.load_npz('trainingData.npz')\n",
    "# data = sparse_matrix.toarray()\n",
    "\n",
    "data = np.array(ls)\n",
    "data.reshape(2400,639450)\n",
    "\n",
    "print(data.shape)\n",
    "#train with data from training, and the classifiers\n",
    "trainer = svm.SVC()\n",
    "trainer.fit(data, classes)"
   ]
  },
  {
   "cell_type": "code",
   "execution_count": 18,
   "id": "df6986d5",
   "metadata": {},
   "outputs": [
    {
     "name": "stderr",
     "output_type": "stream",
     "text": [
      "C:\\Users\\ericc\\anaconda3\\lib\\site-packages\\librosa\\util\\decorators.py:88: UserWarning: PySoundFile failed. Trying audioread instead.\n",
      "  return f(*args, **kwargs)\n"
     ]
    }
   ],
   "source": [
    "\n",
    "'''\n",
    "load testing data in from all mp3s\n",
    "'''\n",
    "test = []\n",
    "for fileName in os.scandir(os.path.abspath(\"project3/test\")):\n",
    "    data, FS = lb.load(os.path.abspath(fileName), duration=29)\n",
    "    test.append(data)\n",
    "    "
   ]
  },
  {
   "cell_type": "code",
   "execution_count": 22,
   "id": "2ee6050e",
   "metadata": {},
   "outputs": [],
   "source": [
    "#predict all testing data and put in list\n",
    "predictions = []    \n",
    "counter = 0\n",
    "predictions.append(trainer.predict(test))\n",
    "# for i in test:\n",
    "#     a = np.reshape(i,(2,-1))\n",
    "    \n",
    "#     predictions.append(trainer.predict(a))\n",
    "#     print(str(counter))\n",
    "#     counter += 1\n"
   ]
  },
  {
   "cell_type": "code",
   "execution_count": 37,
   "id": "b6b5b388",
   "metadata": {},
   "outputs": [],
   "source": [
    "#put list of all testing predictions into file to upload\n",
    "import random\n",
    "l1 = [0,0,0,0,0,1,2,3,4,5]\n",
    "listy = []\n",
    "file = open(\"pred4.txt\", \"w\")\n",
    "for element in predictions:\n",
    "    for i in element:\n",
    "        listy.append(str(i))\n",
    "        \n",
    "names = []        \n",
    "counter = 0\n",
    "mypath = \"project3/test\"\n",
    "#reads in all file names for the testing set\n",
    "from os import listdir\n",
    "from os.path import isfile, join\n",
    "onlyfiles = [f for f in listdir(mypath) if isfile(join(mypath, f))]\n",
    "\n",
    "#append the file name to the classification found to a text file\n",
    "for i in range(1200):\n",
    "    file.write(onlyfiles[i][0:-4] + \",\" + listy[i] + \"\\n\")\n",
    "file.close()\n"
   ]
  },
  {
   "cell_type": "code",
   "execution_count": null,
   "id": "c2bb3bc7",
   "metadata": {},
   "outputs": [],
   "source": []
  }
 ],
 "metadata": {
  "kernelspec": {
   "display_name": "Python 3",
   "language": "python",
   "name": "python3"
  },
  "language_info": {
   "codemirror_mode": {
    "name": "ipython",
    "version": 3
   },
   "file_extension": ".py",
   "mimetype": "text/x-python",
   "name": "python",
   "nbconvert_exporter": "python",
   "pygments_lexer": "ipython3",
   "version": "3.8.8"
  }
 },
 "nbformat": 4,
 "nbformat_minor": 5
}
