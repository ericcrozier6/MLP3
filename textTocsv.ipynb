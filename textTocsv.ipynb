{
 "cells": [
  {
   "cell_type": "code",
   "execution_count": 4,
   "id": "44edd034",
   "metadata": {},
   "outputs": [],
   "source": [
    "import pandas as pd\n",
    "  \n",
    "# reading given csv file \n",
    "# and creating dataframe\n",
    "websites = pd.read_csv(\"pred4.txt\"\n",
    "                       ,header = None)\n",
    "  \n",
    "# adding column headings\n",
    "websites.columns = ['id', 'genre']\n",
    "\n",
    "websites.to_csv('submission3SVM.csv', \n",
    "                index = None)"
   ]
  },
  {
   "cell_type": "code",
   "execution_count": null,
   "id": "afdf363f",
   "metadata": {},
   "outputs": [],
   "source": []
  }
 ],
 "metadata": {
  "kernelspec": {
   "display_name": "Python 3",
   "language": "python",
   "name": "python3"
  },
  "language_info": {
   "codemirror_mode": {
    "name": "ipython",
    "version": 3
   },
   "file_extension": ".py",
   "mimetype": "text/x-python",
   "name": "python",
   "nbconvert_exporter": "python",
   "pygments_lexer": "ipython3",
   "version": "3.8.8"
  }
 },
 "nbformat": 4,
 "nbformat_minor": 5
}
